{
  "nbformat": 4,
  "nbformat_minor": 0,
  "metadata": {
    "colab": {
      "provenance": [],
      "authorship_tag": "ABX9TyObOpwXWpMOAvefp2ZglY16",
      "include_colab_link": true
    },
    "kernelspec": {
      "name": "python3",
      "display_name": "Python 3"
    },
    "language_info": {
      "name": "python"
    }
  },
  "cells": [
    {
      "cell_type": "markdown",
      "metadata": {
        "id": "view-in-github",
        "colab_type": "text"
      },
      "source": [
        "<a href=\"https://colab.research.google.com/github/mahshid-khojandi/python-list-methods/blob/main/python_list_methods.ipynb\" target=\"_parent\"><img src=\"https://colab.research.google.com/assets/colab-badge.svg\" alt=\"Open In Colab\"/></a>"
      ]
    },
    {
      "cell_type": "markdown",
      "source": [
        "The list data type has some more methods"
      ],
      "metadata": {
        "id": "TVRWAIp2ukkl"
      }
    },
    {
      "cell_type": "markdown",
      "source": [
        "list.append(x)\n",
        "\n",
        "Add an item to the end of the list"
      ],
      "metadata": {
        "id": "XFv5Sllsuxf0"
      }
    },
    {
      "cell_type": "code",
      "source": [
        "colors = ['red', 'grey', 'green', 'black', 'yellow', 'grey']\n",
        "colors.append('white')\n",
        "print (colors)"
      ],
      "metadata": {
        "colab": {
          "base_uri": "https://localhost:8080/"
        },
        "id": "GwWSGn7Au6tt",
        "outputId": "ff7bb24f-20a3-46d3-c514-1fde6ef641c9"
      },
      "execution_count": 9,
      "outputs": [
        {
          "output_type": "stream",
          "name": "stdout",
          "text": [
            "['red', 'grey', 'green', 'black', 'yellow', 'grey', 'white']\n"
          ]
        }
      ]
    },
    {
      "cell_type": "markdown",
      "source": [
        "list.extend(iterable)\n",
        "\n",
        "Extend the list by appending all the items from the iterable"
      ],
      "metadata": {
        "id": "IwtC-QqNvUr3"
      }
    },
    {
      "cell_type": "code",
      "source": [
        "colors = ['red', 'grey', 'green', 'black', 'yellow', 'grey']\n",
        "colors.extend(['white', 'pink', 'blue'])\n",
        "print (colors)"
      ],
      "metadata": {
        "colab": {
          "base_uri": "https://localhost:8080/"
        },
        "id": "rmD_ybukvgDO",
        "outputId": "9b59a47e-f67a-40a4-ef0b-0a1cbd02a726"
      },
      "execution_count": 10,
      "outputs": [
        {
          "output_type": "stream",
          "name": "stdout",
          "text": [
            "['red', 'grey', 'green', 'black', 'yellow', 'grey', 'white', 'pink', 'blue']\n"
          ]
        }
      ]
    },
    {
      "cell_type": "code",
      "source": [
        "colors = ['red', 'grey', 'green', 'black', 'yellow', 'grey']\n",
        "colors.append(['white', 'pink', 'blue'])\n",
        "print (colors)"
      ],
      "metadata": {
        "colab": {
          "base_uri": "https://localhost:8080/"
        },
        "id": "DM7KeOTNvrBL",
        "outputId": "b34a52d7-2185-4a6a-9640-7a0909076cce"
      },
      "execution_count": 11,
      "outputs": [
        {
          "output_type": "stream",
          "name": "stdout",
          "text": [
            "['red', 'grey', 'green', 'black', 'yellow', 'grey', ['white', 'pink', 'blue']]\n"
          ]
        }
      ]
    },
    {
      "cell_type": "markdown",
      "source": [
        "list.insert(i, x)\n",
        "\n",
        "Insert an item at a given position"
      ],
      "metadata": {
        "id": "ZWCazBLavuTd"
      }
    },
    {
      "cell_type": "code",
      "source": [
        "colors = ['red', 'grey', 'green', 'black', 'yellow', 'grey']\n",
        "colors.insert(2, 'white')\n",
        "print (colors)"
      ],
      "metadata": {
        "colab": {
          "base_uri": "https://localhost:8080/"
        },
        "id": "6vIV1iPqv2UT",
        "outputId": "bc5d0965-ecd6-458f-89bb-90d4b6d9b0db"
      },
      "execution_count": 13,
      "outputs": [
        {
          "output_type": "stream",
          "name": "stdout",
          "text": [
            "['red', 'grey', 'white', 'green', 'black', 'yellow', 'grey']\n"
          ]
        }
      ]
    },
    {
      "cell_type": "markdown",
      "source": [
        "list.remove(x)\n",
        "\n",
        "Remove the first item from the list whose value is equal to x."
      ],
      "metadata": {
        "id": "wVqJhT_3wBry"
      }
    },
    {
      "cell_type": "code",
      "source": [
        "colors = ['red', 'grey', 'green', 'black', 'yellow', 'grey']\n",
        "colors.remove('grey')\n",
        "print (colors)"
      ],
      "metadata": {
        "colab": {
          "base_uri": "https://localhost:8080/"
        },
        "id": "3fGtPHH3wPrT",
        "outputId": "c438bf46-2a14-4acf-9c57-81ec526baeda"
      },
      "execution_count": 14,
      "outputs": [
        {
          "output_type": "stream",
          "name": "stdout",
          "text": [
            "['red', 'green', 'black', 'yellow', 'grey']\n"
          ]
        }
      ]
    },
    {
      "cell_type": "markdown",
      "source": [
        "list.pop([i])\n",
        "\n",
        "i is optinal\n",
        "\n",
        "Remove the item at the given position in the list, and return it"
      ],
      "metadata": {
        "id": "YYu8wtDOwagt"
      }
    },
    {
      "cell_type": "code",
      "source": [
        "colors = ['red', 'grey', 'green', 'black', 'yellow', 'grey']\n",
        "colors.pop(2)\n",
        "print (colors)"
      ],
      "metadata": {
        "colab": {
          "base_uri": "https://localhost:8080/"
        },
        "id": "oDoSzChHwjQr",
        "outputId": "84540146-4d5a-489f-a537-569be43dac26"
      },
      "execution_count": 18,
      "outputs": [
        {
          "output_type": "stream",
          "name": "stdout",
          "text": [
            "['red', 'grey', 'black', 'yellow', 'grey']\n"
          ]
        }
      ]
    },
    {
      "cell_type": "code",
      "source": [
        "colors = ['red', 'grey', 'green', 'black', 'yellow', 'grey']\n",
        "x = colors.pop(2)\n",
        "print (colors)\n",
        "print (x)"
      ],
      "metadata": {
        "colab": {
          "base_uri": "https://localhost:8080/"
        },
        "id": "moslVc3hwsqQ",
        "outputId": "24ebfda5-0189-430f-a069-579ac0346ea4"
      },
      "execution_count": 17,
      "outputs": [
        {
          "output_type": "stream",
          "name": "stdout",
          "text": [
            "['red', 'grey', 'black', 'yellow', 'grey']\n",
            "green\n"
          ]
        }
      ]
    },
    {
      "cell_type": "markdown",
      "source": [
        "list.clear()\n",
        "\n",
        "Remove all items from the list"
      ],
      "metadata": {
        "id": "tQ6uer95w2mD"
      }
    },
    {
      "cell_type": "code",
      "source": [
        "colors = ['red', 'grey', 'green', 'black', 'yellow', 'grey']\n",
        "colors.clear()\n",
        "print (colors)"
      ],
      "metadata": {
        "colab": {
          "base_uri": "https://localhost:8080/"
        },
        "id": "92gGJoo5w7DP",
        "outputId": "50880263-ddec-4ded-93c8-438760c4a4d2"
      },
      "execution_count": 19,
      "outputs": [
        {
          "output_type": "stream",
          "name": "stdout",
          "text": [
            "[]\n"
          ]
        }
      ]
    },
    {
      "cell_type": "markdown",
      "source": [
        "list.index(x, start, end)\n",
        "\n",
        "Return zero-based index in the list of the first item whose value is equal to x\n",
        "\n",
        "The optional arguments start and end"
      ],
      "metadata": {
        "id": "0ygcmMa1xByi"
      }
    },
    {
      "cell_type": "code",
      "source": [
        "colors = ['red', 'grey', 'green', 'black', 'yellow', 'grey']\n",
        "\n",
        "print (colors.index('grey'))\n",
        "print (colors)"
      ],
      "metadata": {
        "colab": {
          "base_uri": "https://localhost:8080/"
        },
        "id": "KItXhJUJxKzH",
        "outputId": "c72e20d8-ba01-4dc9-bd17-59ae3dda358c"
      },
      "execution_count": 22,
      "outputs": [
        {
          "output_type": "stream",
          "name": "stdout",
          "text": [
            "1\n",
            "['red', 'grey', 'green', 'black', 'yellow', 'grey']\n"
          ]
        }
      ]
    },
    {
      "cell_type": "code",
      "source": [
        "colors = ['red', 'grey', 'green', 'black', 'yellow', 'grey']\n",
        "\n",
        "print (colors.index('grey', 2, 6)) # Find next grey starting at position 2\n",
        "print (colors)"
      ],
      "metadata": {
        "colab": {
          "base_uri": "https://localhost:8080/"
        },
        "id": "DG2i_zk-xaYB",
        "outputId": "5d244f08-1d93-4f28-c1a4-24c4ef09ff90"
      },
      "execution_count": 23,
      "outputs": [
        {
          "output_type": "stream",
          "name": "stdout",
          "text": [
            "5\n",
            "['red', 'grey', 'green', 'black', 'yellow', 'grey']\n"
          ]
        }
      ]
    },
    {
      "cell_type": "markdown",
      "source": [
        "list.count(x)\n",
        "\n",
        "Return the number of times x appears in the list."
      ],
      "metadata": {
        "id": "rXpHnZ1AxhDj"
      }
    },
    {
      "cell_type": "code",
      "source": [
        "colors = ['red', 'grey', 'green', 'black', 'yellow', 'grey']\n",
        "\n",
        "print (colors.count('grey'))\n",
        "print (colors.count('green'))\n",
        "print (colors)"
      ],
      "metadata": {
        "colab": {
          "base_uri": "https://localhost:8080/"
        },
        "id": "mnkGshtjxuUj",
        "outputId": "91f036c2-8760-4654-c8db-033d2dd300fa"
      },
      "execution_count": 26,
      "outputs": [
        {
          "output_type": "stream",
          "name": "stdout",
          "text": [
            "2\n",
            "1\n",
            "['red', 'grey', 'green', 'black', 'yellow', 'grey']\n"
          ]
        }
      ]
    },
    {
      "cell_type": "markdown",
      "source": [
        "list.sort(*, key=None, reverse=False)\n",
        "\n",
        "Sort the items of the list in place"
      ],
      "metadata": {
        "id": "u7Qea7wjx894"
      }
    },
    {
      "cell_type": "code",
      "source": [
        "colors = ['red', 'grey', 'green', 'black', 'yellow', 'grey']\n",
        "colors.sort()\n",
        "print (colors)"
      ],
      "metadata": {
        "colab": {
          "base_uri": "https://localhost:8080/"
        },
        "id": "yBSYHqFTyDyg",
        "outputId": "d0235db4-aea4-4856-dc85-552f38fa21ce"
      },
      "execution_count": 27,
      "outputs": [
        {
          "output_type": "stream",
          "name": "stdout",
          "text": [
            "['black', 'green', 'grey', 'grey', 'red', 'yellow']\n"
          ]
        }
      ]
    },
    {
      "cell_type": "markdown",
      "source": [
        "list.reverse()\n",
        "\n",
        "Reverse the elements of the list in place."
      ],
      "metadata": {
        "id": "b6if_vB7yLYN"
      }
    },
    {
      "cell_type": "code",
      "source": [
        "colors = ['red', 'grey', 'green', 'black', 'yellow', 'grey']\n",
        "colors.reverse()\n",
        "print (colors)"
      ],
      "metadata": {
        "colab": {
          "base_uri": "https://localhost:8080/"
        },
        "id": "U9kl3CTgyPW2",
        "outputId": "1fd3e6dd-89e0-40ad-9026-1b2eb30c682b"
      },
      "execution_count": 28,
      "outputs": [
        {
          "output_type": "stream",
          "name": "stdout",
          "text": [
            "['grey', 'yellow', 'black', 'green', 'grey', 'red']\n"
          ]
        }
      ]
    }
  ]
}